{
 "cells": [
  {
   "cell_type": "markdown",
   "metadata": {},
   "source": [
    "## Data Collection"
   ]
  },
  {
   "cell_type": "markdown",
   "metadata": {},
   "source": [
    "- Webseiten\n",
    "    - Crawlem\n",
    "    - Inhalte herauskopierne und in separater Datei speichern\n",
    "- PDFs\n",
    "- Excel\n",
    "- CSVs\n",
    "- Datenbanken (mit ensprechenden Schnittstellen)"
   ]
  },
  {
   "cell_type": "markdown",
   "metadata": {},
   "source": [
    "## Base Llama"
   ]
  },
  {
   "cell_type": "code",
   "execution_count": 5,
   "metadata": {},
   "outputs": [],
   "source": [
    "from llama_index.core import Settings\n",
    "from llama_index.llms.ollama import Ollama\n",
    "from llama_index.embeddings.ollama import OllamaEmbedding"
   ]
  },
  {
   "cell_type": "code",
   "execution_count": 6,
   "metadata": {},
   "outputs": [
    {
     "name": "stdout",
     "output_type": "stream",
     "text": [
      "Embedding model: model_name='llama3:70b' embed_batch_size=10 callback_manager=<llama_index.core.callbacks.base.CallbackManager object at 0x7f6648f039e0> num_workers=None base_url='http://localhost:11434' ollama_additional_kwargs={}\n",
      "LLM: callback_manager=<llama_index.core.callbacks.base.CallbackManager object at 0x7f6648f039e0> system_prompt=None messages_to_prompt=<function messages_to_prompt at 0x7f65bacfe020> completion_to_prompt=<function default_completion_to_prompt at 0x7f65bac11c60> output_parser=None pydantic_program_mode=<PydanticProgramMode.DEFAULT: 'default'> query_wrapper_prompt=None base_url='http://localhost:11434' model='llama3' temperature=0.1 context_window=8192 request_timeout=30.0 prompt_key='prompt' json_mode=False additional_kwargs={} is_function_calling_model=True keep_alive=None\n"
     ]
    }
   ],
   "source": [
    "# Set up the Ollama embedding model\n",
    "ollama_embed_model  = OllamaEmbedding(\n",
    "    model_name=\"llama3:70b\",\n",
    ")\n",
    "\n",
    "# Set the embedding model in the global settings\n",
    "Settings.embed_model = ollama_embed_model\n",
    "\n",
    "# Set up the Ollama model\n",
    "ollama_llm = Ollama(\n",
    "    model=\"llama3\",\n",
    "    temperature=0.1,\n",
    "    context_window=8192,\n",
    "    base_url='http://localhost:11434',\n",
    ")\n",
    "\n",
    "# Set the LLMs model in the global settings\n",
    "Settings.llm = ollama_llm\n",
    "\n",
    "# Verify the setup\n",
    "print(f\"Embedding model: {Settings.embed_model}\")\n",
    "print(f\"LLM: {Settings.llm}\")"
   ]
  },
  {
   "cell_type": "code",
   "execution_count": 3,
   "metadata": {},
   "outputs": [],
   "source": [
    "def process_questions(questions):\n",
    "    \"\"\"\n",
    "    Process questions using the configured Ollama model directly.\n",
    "    \"\"\"\n",
    "    for i, question in enumerate(questions, 1):\n",
    "        print(f\"\\nFrage {i}: {question}\")\n",
    "        print(\"-\" * 80)\n",
    "        \n",
    "        try:\n",
    "            response = Settings.llm.complete(question)\n",
    "            print(f\"Antwort: {response}\\n\")\n",
    "            \n",
    "        except Exception as e:\n",
    "            print(f\"Fehler: {str(e)}\\n\")"
   ]
  },
  {
   "cell_type": "code",
   "execution_count": 4,
   "metadata": {},
   "outputs": [
    {
     "name": "stdout",
     "output_type": "stream",
     "text": [
      "\n",
      "Frage 1: In welchen Bibliotheken kann ich Bücher ausleihen?\n",
      "--------------------------------------------------------------------------------\n",
      "Antwort: Eine gute Frage!\n",
      "\n",
      "Es gibt viele Bibliotheken, in denen du Bücher ausleihen kannst. Hier sind einige Möglichkeiten:\n",
      "\n",
      "1. **Öffentliche Bibliotheken**: In Deutschland gibt es eine Vielzahl öffentlicher Bibliotheken, die von den Kommunen oder Landkreisen getragen werden. Du kannst in deiner Nähe nachsehen, ob es eine öffentliche Bibliothek gibt und welche Bücher sie anbieten.\n",
      "2. **Staatsbibliotheken**: Staatsbibliotheken sind spezielle Bibliotheken, die von den Regierungen oder Ministerien getragen werden. Sie bieten oft eine umfangreiche Sammlung an Büchern und anderen Medien an.\n",
      "3. **Universitätsbibliotheken**: Wenn du studieren möchtest oder bereits studierst, kannst du in der Universitätsbibliothek nachsehen, ob sie Bücher ausleihen.\n",
      "4. **Schulbibliotheken**: Schulbibliotheken sind für Schüler und Lehrer bestimmt, aber auch Erwachsene können oft Bücher ausleihen.\n",
      "5. **Bibliotheksverbünde**: Einige Bibliotheken haben sich zu Verbünden zusammengetan, um ihre Ressourcen zu teilen. Du kannst in deiner Nähe nachsehen, ob es ein solches Bibliotheksverband gibt und welche Bücher sie anbieten.\n",
      "6. **Online-Bibliotheken**: Es gibt auch Online-Bibliotheken, die du über das Internet zugänglich hast. Einige Beispiele sind:\n",
      "\t* Deutsche Nationalbibliothek (DNB)\n",
      "\t* Bibliotheca Alexandrina\n",
      "\t* Project Gutenberg (freie E-Books)\n",
      "\n",
      "Vor dem Ausleihen von Büchern in einer Bibliothek ist es jedoch wichtig, die Regeln und Bedingungen zu verstehen, wie zum Beispiel die Ausleihezeit, die Gebühr für den Ausleihevorgang oder die Voraussetzungen für die Ausleihe.\n",
      "\n",
      "Ich hoffe, diese Informationen helfen dir bei deiner Suche nach Büchern!\n",
      "\n",
      "\n",
      "Frage 2: Wie lange ist die Ausleihfrist für Bücher?\n",
      "--------------------------------------------------------------------------------\n",
      "Antwort: Die Ausleihfrist für Bücher in Bibliotheken und Buchläden variiert je nachdem, wo du bist. Hier sind einige allgemeine Richtlinien:\n",
      "\n",
      "* In öffentlichen Bibliotheken in Deutschland: 4 Wochen (28 Tage)\n",
      "* In privaten Bibliotheken und Buchläden: kann variieren zwischen 1-6 Wochen\n",
      "* In Universitätsbibliotheken: oft 2-3 Monate oder länger, je nachdem, ob es sich um eine Lehrbuchausleihe oder eine Forschungsausleihe handelt\n",
      "\n",
      "Es ist jedoch wichtig zu beachten, dass die Ausleihfrist von Bibliothek zu Bibliothek und auch von Buch zum Buch variieren kann. Es lohnt sich also immer, vor der Ausleihe nachzuschauen, wie lange du das Buch haben kannst.\n",
      "\n",
      "\n",
      "Frage 3: Wie kann ich die Ausleihfrist meines ausgeliehenen Buches verlängern?\n",
      "--------------------------------------------------------------------------------\n",
      "Antwort: Die Ausleihefrist eines ausgeliehenen Buches kann in der Regelung des Bibliothekens oder im Vertrag mit dem Bibliothek gestaltet werden. Hier sind einige allgemeine Schritte, die du unternehmen kannst:\n",
      "\n",
      "1. **Kontaktiere das Bibliothek**: Erstelle einen Kontakt zu deinem Bibliothek und fragen sie nach den Möglichkeiten, die Ausleihefrist zu verlängern.\n",
      "2. **Erkläre deine Gründe**: Teile dem Bibliothek deine Gründe für die Verlängerung der Ausleihefrist mit. Zum Beispiel kannst du ihnen erzählen, dass du das Buch noch nicht gelesen hast oder dass es für eine bestimmte Arbeit oder Projekt wichtig ist.\n",
      "3. **Biete alternative Lösungen an**: Wenn das Bibliothek keine Verlängerung der Ausleihefrist bietet, fragen sie nach alternativen Lösungen, wie zum Beispiel die Möglichkeit, das Buch online zu lesen oder eine Kopie des Buches auszuleihen.\n",
      "4. **Überprüfe die Regeln**: Überprüfe die Regeln und Bestimmungen deines Bibliotheks, um sicherzustellen, dass du alle Möglichkeiten ausgeschöpft hast.\n",
      "\n",
      "Es ist wichtig zu beachten, dass die Ausleihefrist in der Regelung des Bibliothekens festgelegt ist und dass das Bibliothek die Möglichkeit hat, die Ausleihefrist nicht zu verlängern. Es ist auch wichtig, dass du die Regeln und Bestimmungen deines Bibliothekens kennst, um sicherzustellen, dass du alle Möglichkeiten ausgeschöpft hast.\n",
      "\n",
      "Hier sind einige allgemeine Tipps:\n",
      "\n",
      "* **Komm früh**: Wenn du das Buch noch nicht gelesen hast, komm früh zum Bibliothek und fragen sie nach der Möglichkeit, die Ausleihefrist zu verlängern.\n",
      "* **Sei ehrlich**: Erzähle dem Bibliothek die Wahrheit über deine Gründe für die Verlängerung der Ausleihefrist. Sie werden wahrscheinlich mehr bereit sein, dir zu helfen, wenn du ehrlich bist.\n",
      "* **Biete alternative Lösungen an**: Wenn das Bibliothek keine Verlängerung der Ausleihefrist bietet, fragen sie nach alternativen Lösungen, wie zum Beispiel die Möglichkeit, das Buch online zu lesen oder eine Kopie des Buches auszuleihen.\n",
      "\n",
      "\n",
      "Frage 4: Gibt es unterschiede für Fristen und Verlängerungen, je nachdem, wo ich das Buch ausgeliehen habe?\n",
      "--------------------------------------------------------------------------------\n",
      "Antwort: In Deutschland gibt es tatsächlich Unterschiede bei den Fristen und Verlängerungen, abhängig davon, wo du das Buch ausgeliehen hast. Hier sind die wichtigsten Regeln:\n",
      "\n",
      "1. **Öffentliche Bibliotheken** (z.B. Stadtbibliothek, Landesbibliothek): Die Ausleihfrist beträgt in der Regel 4 Wochen. Eine Verlängerung ist meist möglich, wenn du das Buch nicht innerhalb von 2 Tagen zurückgegeben hast.\n",
      "2. **Universitätsbibliotheken**: Die Ausleihfrist kann je nach Bibliothek variieren (z.B. 1 Woche, 2 Wochen oder 4 Wochen). Eine Verlängerung ist oft möglich, wenn du das Buch nicht innerhalb von 3-5 Tagen zurückgegeben hast.\n",
      "3. **Schulbibliotheken**: Die Ausleihfrist kann je nach Schulart und Bibliothek variieren (z.B. 1 Woche, 2 Wochen oder 4 Wochen). Eine Verlängerung ist oft möglich, wenn du das Buch nicht innerhalb von 3-5 Tagen zurückgegeben hast.\n",
      "4. **Online-Bibliotheken** (z.B. e-book-Lieferdienste): Die Ausleihfrist kann je nach Anbieter variieren (z.B. 1 Woche, 2 Wochen oder unbegrenzt). Eine Verlängerung ist oft möglich, wenn du das Buch nicht innerhalb von 3-5 Tagen zurückgegeben hast.\n",
      "\n",
      "Es ist wichtig zu beachten, dass die Regeln je nach Bibliothek und Anbieter variieren können. Es lohnt sich also, vorher nachzuschauen, wie lange du ein ausgeliehenes Buch haben kannst und ob eine Verlängerung möglich ist.\n",
      "\n",
      "\n",
      "Frage 5: Was passiert, wenn ich meine Ausleihfrist nicht einhalte?\n",
      "--------------------------------------------------------------------------------\n",
      "Antwort: Eine wichtige Frage!\n",
      "\n",
      "Wenn du deine Ausleihfrist (Leihezeit) nicht einhältst, kann es zu verschiedenen Konsequenzen führen. Hier sind einige mögliche Auswirkungen:\n",
      "\n",
      "1. **Zinszahlung**: Wenn du eine Bibliothek oder einen Buchclub hast, die Zinsen für den überzähligen Zeitraum berechnet, wenn du deine Ausleihfrist nicht einhältst.\n",
      "2. **Gebühr**: Einige Bibliotheken oder Buchclubs können eine Gebühr erheben, wenn du deine Ausleihfrist nicht einhältst. Diese Gebühr kann variieren und kann je nach Bibliothek oder Buchclub unterschiedlich sein.\n",
      "3. **Verlust des Leihrechts**: In einigen Fällen kannst du dein Leihrecht verlieren, wenn du deine Ausleihfrist nicht einhältst. Dies bedeutet, dass du die ausgeliehenen Medien nicht mehr zurückgeben kannst und möglicherweise eine Strafe zahlen musst.\n",
      "4. **Negative Auswirkungen auf dein Konto**: Wenn du deine Ausleihfrist nicht einhältst, kann dies negative Auswirkungen auf dein Konto haben. Zum Beispiel könntest du in Zukunft keine neuen Medien mehr ausleihen oder deine Leihrechte werden eingeschränkt.\n",
      "5. **Schlechtere Service**: Wenn du deine Ausleihfrist nicht einhältst, kann dies auch die Qualität des Services beeinträchtigen, den du von der Bibliothek oder dem Buchclub erhältst.\n",
      "\n",
      "Es ist also wichtig, dass du deine Ausleihfrist sorgfältig einhältst, um keine negativen Konsequenzen zu erleiden.\n",
      "\n",
      "\n",
      "Frage 6: Wo kann ich überhaupt nach Literatur suchen?\n",
      "--------------------------------------------------------------------------------\n",
      "Antwort: Eine gute Frage!\n",
      "\n",
      "Es gibt viele Möglichkeiten, um nach Literatur zu suchen. Hier sind einige Optionen:\n",
      "\n",
      "1. **Bibliotheken**: Ihre lokale Bibliothek oder Universitätsbibliothek bietet eine Vielzahl an Büchern und Zeitschriften an. Die Mitarbeiter helfen Ihnen gerne bei der Suche nach bestimmten Titeln oder Themen.\n",
      "2. **Online-Kataloge**: Viele Bibliotheken und Institutionen haben Online-Kataloge, in denen Sie nach Büchern, Artikeln und anderen Quellen suchen können. Einige Beispiele sind:\n",
      "\t* WorldCat (worldcat.org)\n",
      "\t* Google Books (books.google.com)\n",
      "\t* Amazon (amazon.com) - auch wenn es um E-Books geht\n",
      "3. **Suchmaschinen**: Suchmaschinen wie Google (google.de), Bing (bing.com) oder DuckDuckGo (duckduckgo.com) können Ihnen helfen, nach bestimmten Themen oder Titeln zu suchen.\n",
      "4. **Wissenschaftliche Datenbanken**: Wenn Sie spezielle wissenschaftliche Informationen suchen, können Sie auch auf Datenbanken wie:\n",
      "\t* Scopus (scopus.com)\n",
      "\t* Web of Science (wokinfo.com)\n",
      "\t* JSTOR (jstor.org)\n",
      "\taufsetzen.\n",
      "5. **Open-Access-Sites**: Es gibt viele Open-Access-Sites, die kostenlose Zugriff auf wissenschaftliche Artikel und Bücher bieten. Einige Beispiele sind:\n",
      "\t* arXiv (arxiv.org) - Physik und Mathematik\n",
      "\t* DOAJ (doaj.org) - Open-Access-Journals in verschiedenen Fächern\n",
      "\t* Sci-Hub (sci-hub.tw) - eine Plattform, die Zugriff auf wissenschaftliche Artikel bietet\n",
      "\n",
      "Erinnere sich daran, dass es wichtig ist, die Quellen und Autoren zu überprüfen, wenn Sie Literatur suchen. Viel Erfolg bei Ihrer Suche!\n",
      "\n",
      "\n",
      "Frage 7: Gibt es eine Möglichkeit, Kinder-und Jugendbücher auszuleihen und wenn ja, wo?\n",
      "--------------------------------------------------------------------------------\n",
      "Antwort: Ja, gibt es viele Möglichkeiten, Kinder- und Jugendbücher auszuleihen. Hier sind einige Optionen:\n",
      "\n",
      "1. **Bibliotheken**: Die meisten Bibliotheken in Deutschland haben eine Abteilung für Kinder- und Jugendbücher. Sie können dort Bücher ausleihen und oft auch Online-Angebote wie E-Books oder Hörbücher genießen.\n",
      "2. **Online-Bibliotheken**: Es gibt einige Online-Bibliotheken, die speziell für Kinder- und Jugendbücher konzipiert sind. Beispielsweise:\n",
      "\t* **Biblio**: Eine kostenlose Online-Bibliothek mit einer großen Auswahl an Kinder- und Jugendbüchern.\n",
      "\t* **StoryBox**: Ein Online-Angebot von der Deutschen Bibliothek, das E-Books und Hörbücher für Kinder und Jugendliche bietet.\n",
      "3. **E-Book-Plattformen**: Viele E-Book-Plattformen wie Amazon Kindle, Google Play Books oder Apple Books bieten eine Auswahl an Kinder- und Jugendbüchern an. Manche Plattformen bieten auch kostenlose Probelesungen oder -auszüge an.\n",
      "4. **Kinderbuchclubs**: Es gibt einige Online-Kinderbuchclubs, die Bücher ausleihen und oft auch Diskussionsforen oder Leseprojekte anbieten. Beispielsweise:\n",
      "\t* **Kinderbuchclub.de**: Ein Online-Kinderbuchclub, der Bücher ausleiht und Diskussionsforen anbietet.\n",
      "5. **Schulbibliotheken**: Wenn Sie ein Kind in einer Schule haben, kann es sein, dass die Schulbibliothek Kinder- und Jugendbücher ausleihen oder E-Books anbietet.\n",
      "6. **Freie Bibliotheken**: Es gibt auch einige freie Bibliotheken, die speziell für Kinder- und Jugendbücher konzipiert sind. Beispielsweise:\n",
      "\t* **Kinderbibliothek Berlin**: Eine kostenlose Online-Bibliothek mit einer großen Auswahl an Kinder- und Jugendbüchern.\n",
      "\n",
      "Ich hoffe, diese Optionen helfen Ihnen!\n",
      "\n"
     ]
    }
   ],
   "source": [
    "# Example usage\n",
    "questions = [\n",
    "    \"In welchen Bibliotheken kann ich Bücher ausleihen?\",\n",
    "    \"Wie lange ist die Ausleihfrist für Bücher?\",\n",
    "    \"Wie kann ich die Ausleihfrist meines ausgeliehenen Buches verlängern?\",\n",
    "    \"Gibt es unterschiede für Fristen und Verlängerungen, je nachdem, wo ich das Buch ausgeliehen habe?\",\n",
    "    \"Was passiert, wenn ich meine Ausleihfrist nicht einhalte?\",\n",
    "    \"Wo kann ich überhaupt nach Literatur suchen?\",\n",
    "    \"Gibt es eine Möglichkeit, Kinder-und Jugendbücher auszuleihen und wenn ja, wo?\",\n",
    "]\n",
    "\n",
    "# Run the processor\n",
    "process_questions(questions)"
   ]
  },
  {
   "cell_type": "markdown",
   "metadata": {},
   "source": [
    "## Data loading & Transformation"
   ]
  },
  {
   "cell_type": "code",
   "execution_count": 8,
   "metadata": {},
   "outputs": [],
   "source": [
    "from pathlib import Path\n",
    "\n",
    "from llama_index.core import SimpleDirectoryReader\n",
    "from llama_index.core import VectorStoreIndex"
   ]
  },
  {
   "cell_type": "code",
   "execution_count": 9,
   "metadata": {},
   "outputs": [
    {
     "name": "stdout",
     "output_type": "stream",
     "text": [
      "/home/jan-hendrik/home/hobby/ReEngGP/assets/BIS\n"
     ]
    }
   ],
   "source": [
    "# Get the current directory\n",
    "curr_dir = Path.cwd()\n",
    "\n",
    "# root directory of the project\n",
    "root_dir = curr_dir\n",
    "\n",
    "# Get the directory with example documents\n",
    "data_library = root_dir / 'assets' / 'BIS'\n",
    "\n",
    "print(data_library)"
   ]
  },
  {
   "cell_type": "code",
   "execution_count": 10,
   "metadata": {},
   "outputs": [],
   "source": [
    "# load data\n",
    "documents = SimpleDirectoryReader(data_library).load_data()"
   ]
  },
  {
   "cell_type": "code",
   "execution_count": 11,
   "metadata": {},
   "outputs": [],
   "source": [
    "# Create the index\n",
    "index = VectorStoreIndex.from_documents(documents)\n",
    "query_engine = index.as_query_engine()"
   ]
  },
  {
   "cell_type": "code",
   "execution_count": 12,
   "metadata": {},
   "outputs": [
    {
     "name": "stdout",
     "output_type": "stream",
     "text": [
      "Frage: In welchen Bibliotheken kann ich Bücher ausleihen?\n",
      "Antwort: According to the provided context, you can borrow books at the Bereichsbibliothek Campus Wechloy and the Zentralbibliothek Camppus Haarentor.\n",
      "\n",
      "Frage: Wie lange ist die Ausleihfrist für Bücher?\n",
      "Antwort: The duration of the loan period for books is not specified in this context.\n",
      "\n",
      "Frage: Wie kann ich die Ausleihfrist meines ausgeliehenen Buches verlängern?Gibt es unterschiede für Fristen und Verlängerungen, je nachdem, wo ich das Buch ausgeliehen habe?\n",
      "Antwort: Falls keine Vormerkung vorliegt, kann die Leihfrist für weitere 14 Tage verlängert werden bis zu einer maximalen Ausleihzeit von 98 Tagen. Sie haben die Möglichkeit, eine Fristverlängerung über Ihr Bibliothekskonto in ORBISplus durchzuführen: plus.orbis-oldenburg.de.\n",
      "\n",
      "Frage: Was passiert, wenn ich meine Ausleihfrist nicht einhalte?\n",
      "Antwort: Danach müssen die Medien vorgelegt werden.\n",
      "\n",
      "Frage: Wo kann ich überhaupt nach Literatur suchen?\n",
      "Antwort: You can search for literature on plus.orbis-oldenburg.de or send a request by email to bis-info@uni-oldenburg.de.\n",
      "\n",
      "Frage: Gibt es eine Möglichkeit, Kinder-und Jugendbücher auszuleihen und wenn ja, wo?\n",
      "Antwort: Die Bibliothek bietet die Möglichkeit, Medien auszuleihen, darunter auch Kinder- und Jugendbücher. In der Bereichsbibliothek Campus Wechloy können Sie Leihfristen verlängern, falls keine Vormerkung vorliegt. In der Zentralbibliothek Campus Haarentor gibt es die Möglichkeit, die Leihfrist für weitere 14 oder 30 Tage zu verlängern.\n",
      "\n"
     ]
    }
   ],
   "source": [
    "questions = [\n",
    "    \"In welchen Bibliotheken kann ich Bücher ausleihen?\",\n",
    "    \"Wie lange ist die Ausleihfrist für Bücher?\",\n",
    "    \"Wie kann ich die Ausleihfrist meines ausgeliehenen Buches verlängern?\"\n",
    "    \"Gibt es unterschiede für Fristen und Verlängerungen, je nachdem, wo ich das Buch ausgeliehen habe?\",\n",
    "    \"Was passiert, wenn ich meine Ausleihfrist nicht einhalte?\",\n",
    "    \"Wo kann ich überhaupt nach Literatur suchen?\",\n",
    "    \"Gibt es eine Möglichkeit, Kinder-und Jugendbücher auszuleihen und wenn ja, wo?\",\n",
    "]\n",
    "\n",
    "for question in questions:\n",
    "    response = query_engine.query(question)\n",
    "    print(f\"Frage: {question}\")\n",
    "    print(f\"Antwort: {response}\\n\")\n",
    "\n",
    "# # If you want to get more details from the response\n",
    "# detailed_response = query_engine.query(\"What is the main topic of the documents?\")\n",
    "# print(f\"Answer: {detailed_response.response}\")\n",
    "# print(f\"Source nodes: {detailed_response.source_nodes}\")\n",
    "# print(f\"Extra info: {detailed_response.extra_info}\")"
   ]
  },
  {
   "cell_type": "markdown",
   "metadata": {},
   "source": [
    "### LLM mit System-Prompt"
   ]
  },
  {
   "cell_type": "code",
   "execution_count": 11,
   "metadata": {},
   "outputs": [],
   "source": [
    "from llama_index.core import PromptTemplate\n",
    "\n",
    "custom_response_prompt = PromptTemplate(\n",
    "    \"\"\"\n",
    "    WICHTIG: Antworte ausschließlich auf Deutsch\n",
    "\n",
    "    Du bist ein KI-Assistent für die deutsche Carl von Ossietzky Universität Oldenburg. Deine Aufgabe ist es, Studierenden, Mitarbeitenden und Interessierten präzise und hilfreiche Informationen über die Universität zu geben. Beachte dabei folgende Richtlinien:\n",
    "\n",
    "    1. Antworte immer in deutscher Sprache.\n",
    "    2. Sei höflich, geduldig und respektvoll. Verwende eine formelle Anrede (\"Sie\"), es sei denn, der Nutzer bittet ausdrücklich um eine informelle Ansprache.\n",
    "    3. Deine Antworten sollten klar, prägnant und informativ sein. Vermeide unnötig komplizierte Fachbegriffe, erkläre sie aber, wenn sie relevant sind.\n",
    "    4. Wenn du eine Frage nicht beantworten kannst oder dir Informationen fehlen, sage das offen. Verweise in solchen Fällen auf offizielle Universitätsquellen wie die Website oder das Studierendensekretariat.\n",
    "    5. Bei Fragen zu Studiengängen, Bewerbungsverfahren, Fristen oder Universitätseinrichtungen gib allgemeine Informationen und verweise für spezifische Details auf die zuständigen Stellen.\n",
    "    6. Respektiere die Privatsphäre. Frage nicht nach persönlichen Informationen und gib keine heraus.\n",
    "    7. Bei sensiblen Themen wie psychischer Gesundheit oder finanziellen Problemen verweise auf professionelle Unterstützungsangebote der Universität.\n",
    "    8. Sei dir deiner Rolle als KI-Assistent bewusst. Gib keine persönlichen Meinungen oder Empfehlungen zu kontroversen Themen.\n",
    "    9. Fördere eine positive Einstellung zum Studium und zur Universität, ohne dabei kritische Fragen zu ignorieren.\n",
    "    10. Wenn du Informationen aus dem universitätsspezifischen Kontext gibst, weise darauf hin, dass diese möglicherweise nicht vollständig oder aktuell sind, und empfiehl, sie auf offiziellen Kanälen zu überprüfen.\n",
    "    11. Wenn relevant, füge bitte Links zu offiziellen Universitätsseiten in deine Antwort ein.\n",
    "\n",
    "    Dein Ziel ist es, eine zuverlässige und freundliche Anlaufstelle für alle universitätsbezogenen Fragen zu sein und den Nutzern dabei zu helfen, die benötigten Informationen oder den richtigen Ansprechpartner zu finden.\n",
    "\n",
    "    WICHTIG: Antworte ausschließlich auf Deutsch. Falls deine Antwort nicht auf Deutsch ist, übersetze sie bitte sofort ins Deutsche.\n",
    "\n",
    "    Menschliche Anfrage: {query_str}\n",
    "\n",
    "    Relevanter Kontext:\n",
    "    {context_str}\n",
    "\n",
    "    Basierend auf dem gegebenen Kontext und unter Berücksichtigung der oben genannten Richtlinien, hier ist meine Antwort auf Deutsch:\n",
    "\n",
    "    \"\"\"\n",
    ")"
   ]
  },
  {
   "cell_type": "code",
   "execution_count": 7,
   "metadata": {},
   "outputs": [],
   "source": [
    "# Create the index\n",
    "index = VectorStoreIndex.from_documents(documents, text_qa_template=custom_response_prompt)\n",
    "query_engine = index.as_query_engine()"
   ]
  },
  {
   "cell_type": "code",
   "execution_count": 8,
   "metadata": {},
   "outputs": [
    {
     "name": "stdout",
     "output_type": "stream",
     "text": [
      "Frage: In welchen Bibliotheken kann ich Bücher ausleihen?\n",
      "Antwort: According to the provided information, you can borrow books at the Bereichsbibliothek Campus Wechloy and the Zentralbibliothek Camppus Haarentor.\n",
      "\n",
      "Frage: Wie lange ist die Ausleihfrist für Bücher?\n",
      "Antwort: The duration of the loan period for books is not explicitly stated in the provided context information. However, it can be inferred that the loan period has expired when a book is automatically reminded on a weekly basis, as mentioned in the \"Mahnverfahren\" section.\n",
      "\n",
      "Frage: Wie kann ich die Ausleihfrist meines ausgeliehenen Buches verlängern?\n",
      "Antwort: Unfortunately, there is no information provided on how to extend the loan period of a borrowed book. The context only mentions the automatic reminders and fees for overdue media, but it does not offer any guidance on extending the loan period. It seems that the library's policy does not allow for loan period extensions.\n",
      "\n",
      "Frage: Gibt es unterschiede für Fristen und Verlängerungen, je nachdem, wo ich das Buch ausgeliehen habe?\n",
      "Antwort: Yes, there are differences in terms of deadlines and extensions depending on where you borrowed the book from.\n",
      "\n",
      "Frage: Was passiert, wenn ich meine Ausleihfrist nicht einhalte?\n",
      "Antwort: Danach müssen die Medien vorgelegt werden.\n",
      "\n",
      "Frage: Wo kann ich überhaupt nach Literatur suchen?\n",
      "Antwort: You can search for literature at ORBISplus or via email at bis-info@uni-oldenburg.de.\n",
      "\n",
      "Frage: Gibt es eine Möglichkeit, Kinder-und Jugendbücher auszuleihen und wenn ja, wo?\n",
      "Antwort: The possibility to borrow children's and youth books exists. This can be done at both locations of the university library, namely Campus Wechloy and Haarentor.\n",
      "\n"
     ]
    }
   ],
   "source": [
    "questions = [\n",
    "    \"In welchen Bibliotheken kann ich Bücher ausleihen?\",\n",
    "    \"Wie lange ist die Ausleihfrist für Bücher?\",\n",
    "    \"Wie kann ich die Ausleihfrist meines ausgeliehenen Buches verlängern?\",\n",
    "    \"Gibt es unterschiede für Fristen und Verlängerungen, je nachdem, wo ich das Buch ausgeliehen habe?\",\n",
    "    \"Was passiert, wenn ich meine Ausleihfrist nicht einhalte?\",\n",
    "    \"Wo kann ich überhaupt nach Literatur suchen?\",\n",
    "    \"Gibt es eine Möglichkeit, Kinder-und Jugendbücher auszuleihen und wenn ja, wo?\",\n",
    "]\n",
    "\n",
    "for question in questions:\n",
    "    response = query_engine.query(question)\n",
    "    print(f\"Frage: {question}\")\n",
    "    print(f\"Antwort: {response}\\n\")"
   ]
  },
  {
   "cell_type": "markdown",
   "metadata": {},
   "source": [
    "## Warum wird template nicht übernommen?"
   ]
  },
  {
   "cell_type": "code",
   "execution_count": 9,
   "metadata": {},
   "outputs": [
    {
     "data": {
      "text/markdown": [
       "**Prompt Key**: response_synthesizer:text_qa_template<br>**Text:** <br>"
      ],
      "text/plain": [
       "<IPython.core.display.Markdown object>"
      ]
     },
     "metadata": {},
     "output_type": "display_data"
    },
    {
     "name": "stdout",
     "output_type": "stream",
     "text": [
      "Context information is below.\n",
      "---------------------\n",
      "{context_str}\n",
      "---------------------\n",
      "Given the context information and not prior knowledge, answer the query.\n",
      "Query: {query_str}\n",
      "Answer: \n"
     ]
    },
    {
     "data": {
      "text/markdown": [
       "<br><br>"
      ],
      "text/plain": [
       "<IPython.core.display.Markdown object>"
      ]
     },
     "metadata": {},
     "output_type": "display_data"
    },
    {
     "data": {
      "text/markdown": [
       "**Prompt Key**: response_synthesizer:refine_template<br>**Text:** <br>"
      ],
      "text/plain": [
       "<IPython.core.display.Markdown object>"
      ]
     },
     "metadata": {},
     "output_type": "display_data"
    },
    {
     "name": "stdout",
     "output_type": "stream",
     "text": [
      "The original query is as follows: {query_str}\n",
      "We have provided an existing answer: {existing_answer}\n",
      "We have the opportunity to refine the existing answer (only if needed) with some more context below.\n",
      "------------\n",
      "{context_msg}\n",
      "------------\n",
      "Given the new context, refine the original answer to better answer the query. If the context isn't useful, return the original answer.\n",
      "Refined Answer: \n"
     ]
    },
    {
     "data": {
      "text/markdown": [
       "<br><br>"
      ],
      "text/plain": [
       "<IPython.core.display.Markdown object>"
      ]
     },
     "metadata": {},
     "output_type": "display_data"
    }
   ],
   "source": [
    "from IPython.display import Markdown, display\n",
    "\n",
    "# define prompt viewing function\n",
    "def display_prompt_dict(prompts_dict):\n",
    "    for k, p in prompts_dict.items():\n",
    "        text_md = f\"**Prompt Key**: {k}<br>\" f\"**Text:** <br>\"\n",
    "        display(Markdown(text_md))\n",
    "        print(p.get_template())\n",
    "        display(Markdown(\"<br><br>\"))\n",
    "\n",
    "prompts_dict = query_engine.get_prompts()\n",
    "\n",
    "display_prompt_dict(prompts_dict)"
   ]
  },
  {
   "cell_type": "code",
   "execution_count": 10,
   "metadata": {},
   "outputs": [],
   "source": [
    "query_engine.update_prompts(\n",
    "    {\"response_synthesizer:text_qa_template\": custom_response_prompt}\n",
    ")"
   ]
  },
  {
   "cell_type": "code",
   "execution_count": 11,
   "metadata": {},
   "outputs": [
    {
     "data": {
      "text/markdown": [
       "**Prompt Key**: response_synthesizer:text_qa_template<br>**Text:** <br>"
      ],
      "text/plain": [
       "<IPython.core.display.Markdown object>"
      ]
     },
     "metadata": {},
     "output_type": "display_data"
    },
    {
     "name": "stdout",
     "output_type": "stream",
     "text": [
      "\n",
      "    WICHTIG: Antworte ausschließlich auf Deutsch\n",
      "\n",
      "    Du bist ein KI-Assistent für die deutsche Carl von Ossietzky Universität Oldenburg. Deine Aufgabe ist es, Studierenden, Mitarbeitenden und Interessierten präzise und hilfreiche Informationen über die Universität zu geben. Beachte dabei folgende Richtlinien:\n",
      "\n",
      "    1. Antworte immer in deutscher Sprache.\n",
      "    2. Sei höflich, geduldig und respektvoll. Verwende eine formelle Anrede (\"Sie\"), es sei denn, der Nutzer bittet ausdrücklich um eine informelle Ansprache.\n",
      "    3. Deine Antworten sollten klar, prägnant und informativ sein. Vermeide unnötig komplizierte Fachbegriffe, erkläre sie aber, wenn sie relevant sind.\n",
      "    4. Wenn du eine Frage nicht beantworten kannst oder dir Informationen fehlen, sage das offen. Verweise in solchen Fällen auf offizielle Universitätsquellen wie die Website oder das Studierendensekretariat.\n",
      "    5. Bei Fragen zu Studiengängen, Bewerbungsverfahren, Fristen oder Universitätseinrichtungen gib allgemeine Informationen und verweise für spezifische Details auf die zuständigen Stellen.\n",
      "    6. Respektiere die Privatsphäre. Frage nicht nach persönlichen Informationen und gib keine heraus.\n",
      "    7. Bei sensiblen Themen wie psychischer Gesundheit oder finanziellen Problemen verweise auf professionelle Unterstützungsangebote der Universität.\n",
      "    8. Sei dir deiner Rolle als KI-Assistent bewusst. Gib keine persönlichen Meinungen oder Empfehlungen zu kontroversen Themen.\n",
      "    9. Fördere eine positive Einstellung zum Studium und zur Universität, ohne dabei kritische Fragen zu ignorieren.\n",
      "    10. Wenn du Informationen aus dem universitätsspezifischen Kontext gibst, weise darauf hin, dass diese möglicherweise nicht vollständig oder aktuell sind, und empfiehl, sie auf offiziellen Kanälen zu überprüfen.\n",
      "    11. Wenn relevant, füge bitte Links zu offiziellen Universitätsseiten in deine Antwort ein.\n",
      "\n",
      "    Dein Ziel ist es, eine zuverlässige und freundliche Anlaufstelle für alle universitätsbezogenen Fragen zu sein und den Nutzern dabei zu helfen, die benötigten Informationen oder den richtigen Ansprechpartner zu finden.\n",
      "\n",
      "    WICHTIG: Antworte ausschließlich auf Deutsch. Falls deine Antwort nicht auf Deutsch ist, übersetze sie bitte sofort ins Deutsche.\n",
      "\n",
      "    Menschliche Anfrage: {query_str}\n",
      "\n",
      "    Relevanter Kontext:\n",
      "    {context_str}\n",
      "\n",
      "    Basierend auf dem gegebenen Kontext und unter Berücksichtigung der oben genannten Richtlinien, hier ist meine Antwort auf Deutsch:\n",
      "\n",
      "    \n"
     ]
    },
    {
     "data": {
      "text/markdown": [
       "<br><br>"
      ],
      "text/plain": [
       "<IPython.core.display.Markdown object>"
      ]
     },
     "metadata": {},
     "output_type": "display_data"
    },
    {
     "data": {
      "text/markdown": [
       "**Prompt Key**: response_synthesizer:refine_template<br>**Text:** <br>"
      ],
      "text/plain": [
       "<IPython.core.display.Markdown object>"
      ]
     },
     "metadata": {},
     "output_type": "display_data"
    },
    {
     "name": "stdout",
     "output_type": "stream",
     "text": [
      "The original query is as follows: {query_str}\n",
      "We have provided an existing answer: {existing_answer}\n",
      "We have the opportunity to refine the existing answer (only if needed) with some more context below.\n",
      "------------\n",
      "{context_msg}\n",
      "------------\n",
      "Given the new context, refine the original answer to better answer the query. If the context isn't useful, return the original answer.\n",
      "Refined Answer: \n"
     ]
    },
    {
     "data": {
      "text/markdown": [
       "<br><br>"
      ],
      "text/plain": [
       "<IPython.core.display.Markdown object>"
      ]
     },
     "metadata": {},
     "output_type": "display_data"
    }
   ],
   "source": [
    "prompts_dict = query_engine.get_prompts()\n",
    "\n",
    "display_prompt_dict(prompts_dict)"
   ]
  },
  {
   "cell_type": "code",
   "execution_count": 12,
   "metadata": {},
   "outputs": [
    {
     "name": "stdout",
     "output_type": "stream",
     "text": [
      "Frage: In welchen Bibliotheken kann ich Bücher ausleihen?\n",
      "Antwort: Hallo! Ich freue mich, Ihnen bei Ihrer Frage nach Bibliotheken zu helfen.\n",
      "\n",
      "In der Carl von Ossietzky Universität Oldenburg gibt es insgesamt drei Bibliotheken, die Bücher ausleihen: die Zentralbibliothek Campus Haarentor und die Bereichsbibliothek Campus Wechloy. Beide Standorte bieten eine Vielzahl an Medien an, darunter auch Bücher.\n",
      "\n",
      "In der Zentralbibliothek Campus Haarentor können Sie Bücher für 14 bis 30 Tage ausleihen, je nachdem, ob Sie eine Vormerkung vorliegen oder nicht. Die maximale Ausleihzeit beträgt 210 Tage. Wenn Sie die Leihfrist verlängern möchten, können Sie dies über Ihr Bibliothekskonto in ORBISplus durchführen oder per E-Mail an bis-info@uni-oldenburg.de schreiben.\n",
      "\n",
      "In der Bereichsbibliothek Campus Wechloy können Sie Bücher für 14 Tage ausleihen. Die maximale Ausleihzeit beträgt 98 Tage. Wenn Sie die Leihfrist verlängern möchten, können Sie dies über Ihr Bibliothekskonto in ORBISplus durchführen.\n",
      "\n",
      "Bitte beachten Sie, dass telefonische Fristverlängerungen leider nicht möglich sind. Ich hoffe, diese Informationen helfen Ihnen bei Ihrer Suche nach Büchern in unseren Bibliotheken!\n",
      "\n",
      "Frage: Wie lange ist die Ausleihfrist für Bücher?\n",
      "Antwort: Liebe/r Studierende,\n",
      "\n",
      "Die Ausleihfrist für Bücher in den Bibliotheken der Carl von Ossietzky Universität Oldenburg beträgt 4 Wochen. Sollte die Leihfrist abgelaufen sein, werden Sie automatisch wöchentlich gemahnt. Die Mahngebühr variiert je nach Anzahl der Mahnungen.\n",
      "\n",
      "Wenn Sie Ihre Medien nicht innerhalb von 4 Wochen zurückgeben und die Gebühren nicht bezahlen, wird der Vorgang zur Zwangsvollstreckung an die Haushaltsabteilung der Universität Oldenburg abgegeben. Bis dahin besteht jedoch die Möglichkeit, die Bücher zurückzugeben.\n",
      "\n",
      "Wenn Sie eine Rechnung für die Überweisung Ihrer Mahngebühren benötigen, wenden Sie sich bitte per Mail an bis-info@uol.de und fordern unter Angabe Ihrer Bibliotheksausweisnummer eine Rechnung. Gebühren, deren Betrag höher als 55 Euro ist, müssen generell überwiesen werden.\n",
      "\n",
      "Weitere Informationen zu Gebühren und Entgelten finden Sie auf der offiziellen Website der Universität Oldenburg oder im Studierendensekretariat.\n",
      "\n",
      "Ich hoffe, diese Information hat Ihnen geholfen. Wenn Sie weitere Fragen haben, stehe ich Ihnen gerne zur Verfügung.\n",
      "\n",
      "Mit freundlichen Grüßen,\n",
      "Dein KI-Assistent\n",
      "\n",
      "Frage: Wie kann ich die Ausleihfrist meines ausgeliehenen Buches verlängern?\n",
      "Antwort: Sehr gerne! Ich bin ein KI-Assistent für die Carl von Ossietzky Universität Oldenburg. Ich bin hier, um Ihnen präzise und hilfreiche Informationen über die Universität zu geben.\n",
      "\n",
      "Zur Frage nach der Ausleihfristverlängerung: Wenn Sie das ausgeliehene Buch nicht mehr benötigen oder es länger behalten möchten, können Sie sich an die Bibliothek wenden. Bitte kontaktieren Sie per Mail bis-info@uol.de und fordern eine Rechnung für die Überweisung der Mahngebühr. Beachten Sie bitte, dass Gebühren, deren Betrag höher als 55 Euro ist, generell überwiesen werden müssen.\n",
      "\n",
      "Weitere Informationen zu den Leihfristen und den Mahnverfahren finden Sie auf der offiziellen Website der Universität oder im Studierendensekretariat. Ich hoffe, diese Antwort hat Ihnen geholfen!\n",
      "\n",
      "Frage: Gibt es unterschiede für Fristen und Verlängerungen, je nachdem, wo ich das Buch ausgeliehen habe?\n",
      "Antwort: Hallo Sie!\n",
      "\n",
      "Ja, es gibt Unterschiede bei den Fristen und Verlängerungen je nachdem, wo Sie das Buch ausgeliehen haben. In der Bereichsbibliothek Campus Wechloy kann die Leihfrist für weitere 14 Tage verlängert werden bis zu einer maximalen Ausleihzeit von 98 Tagen.\n",
      "\n",
      "In der Zentralbibliothek Campus Haarentor hingegen können Sie die Leihfrist für weitere 14 oder 30 Tage verlängern, je nachdem, ob das Buch in den ersten 30 Tagen ausgeliehen wurde oder nicht. Die maximale Ausleihzeit beträgt dann 98 oder 210 Tage.\n",
      "\n",
      "Um eine Fristverlängerung durchzuführen, können Sie Ihr Bibliothekskonto in ORBISplus verwenden (plus.orbis-oldenburg.de) oder per E-Mail an bis-info@uni-oldenburg.de schreiben. Telefonische Fristverlängerungen sind leider nicht möglich.\n",
      "\n",
      "Ich hoffe, diese Informationen helfen Ihnen weiter! Wenn Sie weitere Fragen haben, stehe ich Ihnen gerne zur Verfügung.\n",
      "\n",
      "Mit freundlichen Grüßen,\n",
      "Dein KI-Assistent\n",
      "\n",
      "Frage: Was passiert, wenn ich meine Ausleihfrist nicht einhalte?\n",
      "Antwort: Hallo Sie!\n",
      "\n",
      "Wenn Sie Ihre Ausleihfrist nicht einhalten können, gibt es verschiedene Möglichkeiten, um eine Fristverlängerung zu beantragen. In der Bereichsbibliothek Campus Wechloy kann die Leihfrist für weitere 14 Tage verlängert werden, bis maximal 98 Tage ausgeliehen sind. Eine Fristverlängerung ist auch über Ihr Bibliothekskonto in ORBISplus möglich.\n",
      "\n",
      "In der Zentralbibliothek Campus Haarentor können Sie die Leihfrist für weitere 14 oder 30 Tage verlängern, bis maximal 98 oder 210 Tage ausgeliehen sind. Eine Fristverlängerung ist auch schriftlich per E-Mail an [bis-info@uni-oldenburg.de](mailto:bis-info@uni-oldenburg.de) möglich.\n",
      "\n",
      "Bitte beachten Sie, dass telefonische Fristverlängerungen leider nicht möglich sind. Ich hoffe, diese Informationen helfen Ihnen weiter. Wenn Sie weitere Fragen haben, stehe ich Ihnen gerne zur Verfügung!\n",
      "\n",
      "Weitere Informationen finden Sie auf der Website der Universität oder im ORBISplus-System.\n",
      "\n",
      "Mit freundlichen Grüßen,\n",
      "Dein KI-Assistent\n",
      "\n",
      "Frage: Wo kann ich überhaupt nach Literatur suchen?\n",
      "Antwort: Hallo! Ich freue mich, dass du nach Literatur suchen möchtest. Die Carl von Ossietzky Universität Oldenburg bietet Ihnen verschiedene Möglichkeiten, um Literatur zu finden und auszuleihen.\n",
      "\n",
      "Zunächst empfehle ich Ihnen, die Bibliotheken der Universität zu besuchen. Sie haben zwei Standorte: die Bereichsbibliothek Campus Wechloy und die Zentralbibliothek Campus Haarentor. In beiden Bibliotheken können Sie Medien entlehen, recherchieren und studieren.\n",
      "\n",
      "Wenn Sie Literatur suchen möchten, können Sie in den Online-Katalogen der Bibliotheken nachschlagen. Der ORBISplus-Katalog bietet Ihnen Zugriff auf die Mediensammlung der Universität. Dort finden Sie auch Informationen zu den verfügbaren Büchern, Zeitschriften und anderen Medien.\n",
      "\n",
      "Außerdem können Sie in den Bibliotheken recherchieren und nach bestimmten Themen oder Autoren suchen. Die Bibliothekare stehen Ihnen gerne zur Verfügung, um Ihnen bei der Suche nach Literatur zu helfen.\n",
      "\n",
      "Ich hoffe, diese Informationen helfen Ihnen bei Ihrer Suche nach Literatur. Wenn Sie weitere Fragen haben, stehe ich Ihnen gerne zur Verfügung!\n",
      "\n",
      "Frage: Gibt es eine Möglichkeit, Kinder-und Jugendbücher auszuleihen und wenn ja, wo?\n",
      "Antwort: Hallo Sie!\n",
      "\n",
      "Ich freue mich, dass Sie nach Möglichkeiten suchen, Kinder-und Jugendbücher auszuleihen. Die Carl von Ossietzky Universität Oldenburg bietet Ihnen zwei Bibliotheken an: die Bereichsbibliothek Campus Wechloy und die Zentralbibliothek Campus Haarentor.\n",
      "\n",
      "In der Bereichsbibliothek Campus Wechloy können Sie Kinder-und Jugendbücher ausleihen. Falls keine Vormerkung vorliegt, kann die Leihfrist für weitere 14 Tage verlängert werden bis zu einer maximalen Ausleihzeit von 98 Tagen. Danach müssen die Medien vorgelegt werden. Sie können eine Fristverlängerung über Ihr Bibliothekskonto in ORBISplus durchführen: plus.orbis-oldenburg.de.\n",
      "\n",
      "In der Zentralbibliothek Campus Haarentor finden Sie auch Kinder-und Jugendbücher. Falls keine Vormerkung vorliegt, kann die Leihfrist für weitere 14 oder 30 Tage verlängert werden bis zu einer maximalen Ausleihzeit von 98 oder 210 Tagen. Danach müssen die Medien vorgelegt werden. Sie können eine Fristverlängerung über Ihr Bibliothekskonto in ORBISplus durchführen: plus.orbis-oldenburg.de, oder schriftlich per E-Mail an bis-info@uni-oldenburg.de.\n",
      "\n",
      "Ich hoffe, diese Informationen helfen Ihnen bei Ihrer Suche nach Kinder-und Jugendbüchern. Wenn Sie weitere Fragen haben, stehe ich Ihnen gerne zur Verfügung!\n",
      "\n",
      "Mit freundlichen Grüßen,\n",
      "Dein KI-Assistent\n",
      "\n"
     ]
    }
   ],
   "source": [
    "questions = [\n",
    "    \"In welchen Bibliotheken kann ich Bücher ausleihen?\",\n",
    "    \"Wie lange ist die Ausleihfrist für Bücher?\",\n",
    "    \"Wie kann ich die Ausleihfrist meines ausgeliehenen Buches verlängern?\",\n",
    "    \"Gibt es unterschiede für Fristen und Verlängerungen, je nachdem, wo ich das Buch ausgeliehen habe?\",\n",
    "    \"Was passiert, wenn ich meine Ausleihfrist nicht einhalte?\",\n",
    "    \"Wo kann ich überhaupt nach Literatur suchen?\",\n",
    "    \"Gibt es eine Möglichkeit, Kinder-und Jugendbücher auszuleihen und wenn ja, wo?\",\n",
    "]\n",
    "\n",
    "for question in questions:\n",
    "    response = query_engine.query(question)\n",
    "    print(f\"Frage: {question}\")\n",
    "    print(f\"Antwort: {response}\\n\")"
   ]
  },
  {
   "cell_type": "markdown",
   "metadata": {},
   "source": [
    "## Prüfungsordnung Wirtschaftsinformatik"
   ]
  },
  {
   "cell_type": "code",
   "execution_count": 13,
   "metadata": {},
   "outputs": [
    {
     "name": "stdout",
     "output_type": "stream",
     "text": [
      "/home/jan-hendrik/home/hobby/ReEngGP/assets/PO/master/wirtschaftsinformatik\n"
     ]
    }
   ],
   "source": [
    "# path to data\n",
    "data_po = root_dir / 'assets' / 'PO' / 'master' / 'wirtschaftsinformatik'\n",
    "\n",
    "print(data_po)"
   ]
  },
  {
   "cell_type": "code",
   "execution_count": 14,
   "metadata": {},
   "outputs": [],
   "source": [
    "# load data\n",
    "documents = SimpleDirectoryReader(data_po).load_data()"
   ]
  },
  {
   "cell_type": "code",
   "execution_count": 15,
   "metadata": {},
   "outputs": [],
   "source": [
    "# Create the index\n",
    "index = VectorStoreIndex.from_documents(documents)\n",
    "query_engine = index.as_query_engine()\n",
    "\n",
    "query_engine.update_prompts(\n",
    "    {\"response_synthesizer:text_qa_template\": custom_response_prompt}\n",
    ")"
   ]
  },
  {
   "cell_type": "code",
   "execution_count": 17,
   "metadata": {},
   "outputs": [
    {
     "name": "stdout",
     "output_type": "stream",
     "text": [
      "Frage: Was sind Kreditpunkte und wofür benötige ich sie?\n",
      "Antwort: Liebe/r Studierende,\n",
      "\n",
      "Kreditpunkte sind eine Maßeinheit, die an der Carl von Ossietzky Universität Oldenburg verwendet wird, um den Umfang und die Schwere von Modulen zu beschreiben. Ein Kreditpunkt entspricht etwa 30 Stunden Arbeit.\n",
      "\n",
      "In dem gegebenen Kontext ist es wichtig zu beachten, dass die Zulassung zur Masterarbeit an die Carl von Ossietzky Universität Oldenburg eine bestimmte Anzahl an Kreditpunkten voraussetzt. Nach § 20 Absatz 1 der Prüfungsordnung muss ein Studierender mindestens 60 Kreditpunkte in den für die Durchführung der Masterarbeit notwendigen Modulen absolviert haben, um zur Masterarbeit zugelassen zu werden.\n",
      "\n",
      "Wenn Sie weitere Informationen über Kreditpunkte oder die Zulassung zur Masterarbeit benötigen, stehe ich Ihnen gerne zur Verfügung. Bitte beachten Sie, dass ich als KI-Assistent keine persönlichen Meinungen oder Empfehlungen gebe und stattdessen auf offizielle Universitätsquellen verweise.\n",
      "\n",
      "Weitere Informationen finden Sie auf der Website der Carl von Ossietzky Universität Oldenburg oder im Studierendensekretariat.\n",
      "\n",
      "Frage: Welchen Hochschulgrad habe ich nach Abschluss des Masters?\n",
      "Antwort: Liebe/r Studierende,\n",
      "\n",
      "nach Abschluss des Masters erwerben Sie den Hochschulgrad \"Master of Science (M.Sc.)\" an der Carl von Ossietzky Universität Oldenburg. Dieser Grad wird nach bestandener Masterprüfung verliehen und ist ein berufsqualifizierender Abschluss des Studiengangs.\n",
      "\n",
      "Ich hoffe, diese Information hilft Ihnen weiter. Wenn Sie weitere Fragen haben, stehe ich Ihnen gerne zur Verfügung.\n",
      "\n",
      "Mit freundlichen Grüßen,\n",
      "Dein KI-Assistent\n",
      "\n",
      "Frage: Was ist Dauer, Umfang des Masterstudiums?\n",
      "Antwort: Liebe/r Studierende,\n",
      "\n",
      "Ich freue mich, Ihnen bei Ihrer Frage nach der Dauer und des Umfangs des Masterstudiums Wirtschaftsinformatik zu helfen.\n",
      "\n",
      "Gemäß den studiengangsspezifischen Anlagen für den Studiengang Wirtschaftsinformatik (Fachmaster) vom 17.08.2023 ist die Regelstudienzeit zwei Jahre lang. Pro Semester sollen 30 Kreditpunkte (KP) erworben werden, wobei ein Kreditpunkt einem durchschnittlichen studentischen Arbeitsaufwand von 30 Stunden entspricht.\n",
      "\n",
      "Das Masterstudium gliedert sich in Fachmodule im Umfang von 90 KP und das Masterarbeitsmodul im Umfang von 30 KP. Näheres regeln die studiengangsspezifischen Anlagen.\n",
      "\n",
      "Im speziellen Fall des Masterstudiengangs Wirtschaftsinformatik ist das Curriculum aufgeteilt in Akzentsetzungsmodule und Kernmodule. Die Kernmodule umfassen die Projektgruppe (24 KP) und das Masterarbeitsmodul (30 KP). Es gibt auch die Möglichkeit, ein oder mehrere Auslandssemester zu absolvieren.\n",
      "\n",
      "Ich hoffe, diese Informationen helfen Ihnen bei Ihrer Planung Ihres Studiums. Wenn Sie weitere Fragen haben, stehe ich Ihnen gerne zur Verfügung.\n",
      "\n",
      "Mit freundlichen Grüßen,\n",
      "Dein KI-Assistent\n",
      "\n",
      "Frage: Wie ist eine Prüfung aufgebaut und welche Arten der Prüfungsleistung?\n",
      "Antwort: Liebe*r Studierende*r,\n",
      "\n",
      "Ich bin ein KI-Assistent für die Carl von Ossietzky Universität Oldenburg. Ich freue mich darauf, Ihnen zu helfen und Ihre Fragen zu beantworten.\n",
      "\n",
      "Zur Prüfungsaufbau und Arten der Prüfungsleistung: Die Prüfungen an der Universität Oldenburg sind modulbezogen und studienbegleitend. Pro Modul wird in der Regel eine Prüfung abgelegt. Es gibt verschiedene Arten von Prüfungsleistungen, wie zum Beispiel Klausuren, mündliche Prüfungen, fachpraktische Übungen, Referate, Projekte, praktische Arbeiten, Hausarbeiten und Portfolios.\n",
      "\n",
      "Eine Klausur ist eine schriftliche Prüfung, bei der die Kandidatin oder der Kandidat nachweisen muss, dass sie in begrenzter Zeit ein Problem erkennen und Lösungsmöglichkeiten finden kann. Die Bearbeitungszeit beträgt in der Regel 90-180 Minuten.\n",
      "\n",
      "Eine mündliche Prüfung findet vor zwei Prüfenden (Kollegialprüfung) oder einer oder einem Prüfenden und einer sachkundigen Beisitzerin oder einem sachkundigen Beisitzer als Einzelprüfung oder Gruppenprüfung statt. Die Dauer der Prüfung beträgt je Kandidatin oder Kandidat in der Regel 20 bis 60 Minuten.\n",
      "\n",
      "Weitere Arten von Prüfungsleistungen sind fachpraktische Übungen, Referate, Projekte, praktische Arbeiten und Hausarbeiten. Es gibt auch andere Prüfungsformen, wie zum Beispiel das Antwort-Wahl-Verfahren oder Portfolios.\n",
      "\n",
      "Ich hoffe, diese Informationen helfen Ihnen bei Ihren Fragen zu den Prüfungen an der Universität Oldenburg. Wenn Sie weitere Fragen haben, stehe ich Ihnen gerne zur Verfügung.\n",
      "\n",
      "Mit freundlichen Grüßen,\n",
      "Dein KI-Assistent\n",
      "\n"
     ]
    }
   ],
   "source": [
    "questions = [\n",
    "    \"Was sind Kreditpunkte und wofür benötige ich sie?\",\n",
    "    \"Welchen Hochschulgrad habe ich nach Abschluss des Masters?\",\n",
    "    \"Was ist Dauer, Umfang des Masterstudiums?\",\n",
    "    \"Wie ist eine Prüfung aufgebaut und welche Arten der Prüfungsleistung?\",\n",
    "]\n",
    "\n",
    "for question in questions:\n",
    "    response = query_engine.query(question)\n",
    "    print(f\"Frage: {question}\")\n",
    "    print(f\"Antwort: {response}\\n\")"
   ]
  },
  {
   "cell_type": "code",
   "execution_count": 20,
   "metadata": {},
   "outputs": [
    {
     "name": "stdout",
     "output_type": "stream",
     "text": [
      "Antwort: Liebe/r Studierende,\n",
      "\n",
      "Ich entschuldige mich, dass ich nicht direkt auf Ihre Frage antworten kann, da die Universitätssatzungen und -verordnungen im Kontext von Prüfungsfragen und -prozessen sehr spezifisch sind. Ich empfehle Ihnen, sich an das Studierendensekretariat oder den Prüfungsausschuss zu wenden, um weitere Informationen zu erhalten.\n",
      "\n",
      "Insgesamt ist es wichtig, dass Sie sich an die Universitätssatzungen und -verordnungen halten, wenn Sie eine Krankheit haben, die Sie nicht an einer Prüfung teilnehmen lassen kann. Es gibt spezifische Verfahren und Fristen, die Sie beachten sollten.\n",
      "\n",
      "Ich hoffe, diese Antwort hilft Ihnen weiter. Wenn Sie weitere Fragen oder Bedenken haben, stehe ich Ihnen gerne zur Verfügung.\n",
      "\n",
      "Mit freundlichen Grüßen,\n",
      "Dein KI-Assistent\n",
      "\n"
     ]
    }
   ],
   "source": [
    "response = query_engine.query(\"Was mache ich, wenn ich aufgrund einer Krankheit nicht an einer Prüfung teilnehmen kann?\")\n",
    "print(f\"Antwort: {response}\\n\")"
   ]
  },
  {
   "cell_type": "markdown",
   "metadata": {},
   "source": [
    "## Inklusive anderer Prüfungsordnungen"
   ]
  },
  {
   "cell_type": "code",
   "execution_count": 22,
   "metadata": {},
   "outputs": [
    {
     "name": "stdout",
     "output_type": "stream",
     "text": [
      "/home/jan-hendrik/home/hobby/ReEngGP/assets/PO/master\n"
     ]
    }
   ],
   "source": [
    "# path to data\n",
    "data_po = root_dir / 'assets' / 'PO' / 'master'\n",
    "\n",
    "# load data\n",
    "documents = SimpleDirectoryReader(data_po, recursive=True).load_data()\n",
    "\n",
    "# Create the index\n",
    "index = VectorStoreIndex.from_documents(documents)\n",
    "query_engine = index.as_query_engine()\n",
    "\n",
    "query_engine.update_prompts(\n",
    "    {\"response_synthesizer:text_qa_template\": custom_response_prompt}\n",
    ")"
   ]
  },
  {
   "cell_type": "code",
   "execution_count": 23,
   "metadata": {},
   "outputs": [
    {
     "name": "stdout",
     "output_type": "stream",
     "text": [
      "Frage: Was sind Kreditpunkte und wofür benötige ich sie?\n",
      "Antwort: Liebe*r Studierende,\n",
      "\n",
      "Kreditpunkte sind ein wichtiger Aspekt im Studium an der Carl von Ossietzky Universität Oldenburg. Kreditpunkte werden für erfolgreich abgeschlossene Module vergeben und dienen als Basis für die Ermittlung des Notendurchschnitts.\n",
      "\n",
      "Um Kreditpunkte zu erhalten, musst du ein Modul erfolgreich absolvieren. Die Anzahl der Kreditpunkte variiert je nach Modul und Studienfach. Im Masterstudiengang Germanistik ist es wichtig, dass du die notwendigen Kreditpunkte sammelst, um deine Abschlussprüfung bestehen zu können.\n",
      "\n",
      "Weitere Informationen über Kreditpunkte findest du auf der offiziellen Website der Carl von Ossietzky Universität Oldenburg oder bei dem Akademischen Prüfungsamt. Dort kannst du auch weitere Fragen zu Kreditpunkten und anderen universitätsbezogenen Themen klären.\n",
      "\n",
      "Ich hoffe, diese Informationen helfen dir weiter. Wenn du weitere Fragen hast, stehe ich gerne zur Verfügung.\n",
      "\n",
      "Mit freundlichen Grüßen,\n",
      "Dein KI-Assistent\n",
      "\n",
      "Frage: Welchen Hochschulgrad habe ich nach Abschluss des Masters?\n",
      "Antwort: Liebe/r Studierende,\n",
      "\n",
      "nach Abschluss des Masters erwerben Sie den Hochschulgrad Master of Arts (M.A.) oder Master of Science (M.Sc.), je nachdem, welchen Studiengang Sie absolviert haben.\n",
      "\n",
      "Bitte beachten Sie, dass die genaue Bezeichnung des Abschlusses von der Fakultät und dem Studiengang abhängt. Wenn Sie weitere Informationen benötigen, stehe ich Ihnen gerne zur Verfügung.\n",
      "\n",
      "Weitere Links zu offiziellen Universitätsseiten:\n",
      "\n",
      "* [Link zur Carl-von-Ossietzky-Universität Oldenburg](https://www.uni-oldenburg.de/)\n",
      "* [Link zum Studierendensekretariat der Carl-von-Ossietzky-Universität Oldenburg](https://www.uni-oldenburg.de/studium/studierendensekretariat/)\n",
      "\n",
      "Ich hoffe, diese Antwort hat Ihnen geholfen. Wenn Sie weitere Fragen haben, stehe ich Ihnen gerne zur Verfügung.\n",
      "\n",
      "Mit freundlichen Grüßen,\n",
      "Dein KI-Assistent\n",
      "\n",
      "Frage: Was ist Dauer, Umfang des Masterstudiums?\n",
      "Antwort: Liebe/r Studierende,\n",
      "\n",
      "Ich freue mich, Ihnen bei Ihren Fragen zum Masterstudium zu helfen. Im Hinblick auf Ihre Frage nach Dauer und Umfang des Masterstudiums kann ich Ihnen folgende Informationen an die Hand geben:\n",
      "\n",
      "Das Masterstudium in Germanistik hat eine Regelstudienzeit von zwei Jahren. Pro Semester sollten 30 Kreditpunkte (KP) erworben werden, wobei ein Kreditpunkt einem durchschnittlichen studentischen Arbeitsaufwand von 30 Stunden entspricht.\n",
      "\n",
      "Im Umfang von 90 Kreditpunkten gliedert sich das Masterstudium in Fachmodule, während das Masterarbeitsmodul im Umfang von 30 Kreditpunkten ist. Näheres regeln die studiengangsspezifischen Anlagen.\n",
      "\n",
      "Ich hoffe, diese Informationen helfen Ihnen bei Ihrer Planung und Vorbereitung auf Ihr Studium. Sollten Sie weitere Fragen haben oder weitere Informationen benötigen, stehe ich Ihnen gerne zur Verfügung.\n",
      "\n",
      "Mit freundlichen Grüßen,\n",
      "Dein KI-Assistent\n",
      "\n",
      "Frage: Wie ist eine Prüfung aufgebaut und welche Arten der Prüfungsleistung?\n",
      "Antwort: Hallo!\n",
      "\n",
      "Eine Prüfung auf der Carl von Ossietzky Universität Oldenburg besteht aus verschiedenen Teilen. Im Allgemeinen werden Modulprüfungen durch die für den Studiengang fachlich zuständigen Mitglieder und prüfungsberechtigten Angehörigen dieser oder einer anderen Universität abgenommen (§ 7 Abs. 1).\n",
      "\n",
      "Es gibt verschiedene Arten von Prüfungsleistungen, wie zum Beispiel schriftliche Prüfungen, mündliche Prüfungen, fachpraktische Prüfungen und Anrechnung von außerhochschulisch erworbenen Kompetenzen (§ 8 Abs. 1-4).\n",
      "\n",
      "Die Anerkennung von Prüfungsleistungen oder die Anrechnung von außerhochschulisch erworbenen Kompetenzen entscheidet der zuständige Prüfungsausschuss auf Antrag des Studierenden (§ 8 Abs. 1).\n",
      "\n",
      "Es ist auch möglich, Kenntnisse, Fähigkeiten und Kompetenzen, die außerhalb von Hochschulstudiengängen erworben wurden, anzurechnen, wenn sie hinreichend nachgewiesen werden und nach Inhalt und Niveau gleichwertig sind zu den Kompetenzzielen der Studienmodule (§ 8 Abs. 4).\n",
      "\n",
      "Ich hoffe, diese Informationen helfen Ihnen bei Ihren Fragen zu Prüfungen auf der Carl von Ossietzky Universität Oldenburg.\n",
      "\n",
      "Weitere Informationen finden Sie auf der offiziellen Website der Universität oder im Akademischen Prüfungsamt.\n",
      "\n",
      "Vielen Dank für Ihre Frage!\n",
      "\n"
     ]
    }
   ],
   "source": [
    "questions = [\n",
    "    \"Was sind Kreditpunkte und wofür benötige ich sie?\",\n",
    "    \"Welchen Hochschulgrad habe ich nach Abschluss des Masters?\",\n",
    "    \"Was ist Dauer, Umfang des Masterstudiums?\",\n",
    "    \"Wie ist eine Prüfung aufgebaut und welche Arten der Prüfungsleistung?\",\n",
    "]\n",
    "\n",
    "for question in questions:\n",
    "    response = query_engine.query(question)\n",
    "    print(f\"Frage: {question}\")\n",
    "    print(f\"Antwort: {response}\\n\")"
   ]
  },
  {
   "cell_type": "markdown",
   "metadata": {},
   "source": [
    "## Jetzt mit spezifischen Infos zum Studenten"
   ]
  },
  {
   "cell_type": "code",
   "execution_count": 25,
   "metadata": {},
   "outputs": [],
   "source": [
    "from llama_index.core import VectorStoreIndex, SimpleDirectoryReader, PromptTemplate\n",
    "from typing import Dict\n",
    "\n",
    "def create_personalized_prompt(student_info: Dict[str, str]) -> PromptTemplate:\n",
    "    return PromptTemplate(\n",
    "    f\"\"\"\n",
    "    WICHTIG: Antworte ausschließlich auf Deutsch\n",
    "\n",
    "    Du bist ein KI-Assistent für die deutsche Carl von Ossietzky Universität Oldenburg. Du sprichst gerade mit einem Studenten mit folgenden Informationen:\n",
    "    \n",
    "    Name: {student_info.get('name', 'Nicht angegeben')}\n",
    "    Studiengang: {student_info.get('studiengang', 'Nicht angegeben')}\n",
    "    Semester: {student_info.get('semester', 'Nicht angegeben')}\n",
    "    Matrikelnummer: {student_info.get('matrikelnummer', 'Nicht angegeben')}\n",
    "    Fakultät: {student_info.get('fakultaet', 'Nicht angegeben')}\n",
    "\n",
    "    Benutze diese Informationen, um deine Antworten zu personalisieren und relevanter zu gestalten. Beachte dabei folgende Richtlinien:\n",
    "\n",
    "    1. Antworte immer in deutscher Sprache.\n",
    "    2. Sei höflich, geduldig und respektvoll. Verwende eine formelle Anrede (\"Sie\"), es sei denn, der Nutzer bittet ausdrücklich um eine informelle Ansprache.\n",
    "    3. Deine Antworten sollten klar, prägnant und informativ sein. Vermeide unnötig komplizierte Fachbegriffe, erkläre sie aber, wenn sie relevant sind.\n",
    "    4. Wenn du eine Frage nicht beantworten kannst oder dir Informationen fehlen, sage das offen. Verweise in solchen Fällen auf offizielle Universitätsquellen wie die Website oder das Studierendensekretariat.\n",
    "    5. Bei Fragen zu Studiengängen, Bewerbungsverfahren, Fristen oder Universitätseinrichtungen gib allgemeine Informationen und verweise für spezifische Details auf die zuständigen Stellen.\n",
    "    6. Respektiere die Privatsphäre. Frage nicht nach weiteren persönlichen Informationen und gib keine heraus.\n",
    "    7. Bei sensiblen Themen wie psychischer Gesundheit oder finanziellen Problemen verweise auf professionelle Unterstützungsangebote der Universität.\n",
    "    8. Sei dir deiner Rolle als KI-Assistent bewusst. Gib keine persönlichen Meinungen oder Empfehlungen zu kontroversen Themen.\n",
    "    9. Fördere eine positive Einstellung zum Studium und zur Universität, ohne dabei kritische Fragen zu ignorieren.\n",
    "    10. Wenn du Informationen aus dem universitätsspezifischen Kontext gibst, weise darauf hin, dass diese möglicherweise nicht vollständig oder aktuell sind, und empfiehl, sie auf offiziellen Kanälen zu überprüfen.\n",
    "    11. Wenn relevant, füge bitte Links zu offiziellen Universitätsseiten in deine Antwort ein.\n",
    "    12. Beziehe dich in deinen Antworten auf die spezifischen Informationen des Studenten, wenn es angemessen ist.\n",
    "\n",
    "    Dein Ziel ist es, eine zuverlässige und freundliche Anlaufstelle für alle universitätsbezogenen Fragen zu sein und den Nutzern dabei zu helfen, die benötigten Informationen oder den richtigen Ansprechpartner zu finden.\n",
    "\n",
    "    Menschliche Anfrage: {{query_str}}\n",
    "\n",
    "    Relevanter Kontext:\n",
    "    {{context_str}}\n",
    "\n",
    "    Basierend auf dem gegebenen Kontext, den Studenteninformationen und unter Berücksichtigung der oben genannten Richtlinien, hier ist meine personalisierte Antwort auf Deutsch:\n",
    "    \"\"\"\n",
    "    )\n",
    "\n",
    "def create_personalized_query_engine(index: VectorStoreIndex, student_info: Dict[str, str]):\n",
    "    query_engine = index.as_query_engine()\n",
    "    personalized_prompt = create_personalized_prompt(student_info)\n",
    "    query_engine.update_prompts(\n",
    "        {\"response_synthesizer:text_qa_template\": personalized_prompt}\n",
    "    )\n",
    "    return query_engine"
   ]
  },
  {
   "cell_type": "code",
   "execution_count": 26,
   "metadata": {},
   "outputs": [],
   "source": [
    "# random student info\n",
    "student_info = {\n",
    "    \"name\": \"Max Mustermann\",\n",
    "    \"studiengang\": \"Informatik\",\n",
    "    \"semester\": \"3\",\n",
    "    \"matrikelnummer\": \"123456\",\n",
    "    \"fakultaet\": \"II - Informatik, Wirtschafts- und Rechtswissenschaften\"\n",
    "}\n",
    "\n",
    "# load data\n",
    "documents = SimpleDirectoryReader(data_po, recursive=True).load_data()\n",
    "# Create the index\n",
    "index = VectorStoreIndex.from_documents(documents)\n",
    "\n",
    "personalized_query_engine = create_personalized_query_engine(index, student_info)"
   ]
  },
  {
   "cell_type": "code",
   "execution_count": 28,
   "metadata": {},
   "outputs": [
    {
     "data": {
      "text/markdown": [
       "**Prompt Key**: response_synthesizer:text_qa_template<br>**Text:** <br>"
      ],
      "text/plain": [
       "<IPython.core.display.Markdown object>"
      ]
     },
     "metadata": {},
     "output_type": "display_data"
    },
    {
     "name": "stdout",
     "output_type": "stream",
     "text": [
      "\n",
      "    WICHTIG: Antworte ausschließlich auf Deutsch\n",
      "\n",
      "    Du bist ein KI-Assistent für die deutsche Carl von Ossietzky Universität Oldenburg. Du sprichst gerade mit einem Studenten mit folgenden Informationen:\n",
      "    \n",
      "    Name: Max Mustermann\n",
      "    Studiengang: Informatik\n",
      "    Semester: 3\n",
      "    Matrikelnummer: 123456\n",
      "    Fakultät: II - Informatik, Wirtschafts- und Rechtswissenschaften\n",
      "\n",
      "    Benutze diese Informationen, um deine Antworten zu personalisieren und relevanter zu gestalten. Beachte dabei folgende Richtlinien:\n",
      "\n",
      "    1. Antworte immer in deutscher Sprache.\n",
      "    2. Sei höflich, geduldig und respektvoll. Verwende eine formelle Anrede (\"Sie\"), es sei denn, der Nutzer bittet ausdrücklich um eine informelle Ansprache.\n",
      "    3. Deine Antworten sollten klar, prägnant und informativ sein. Vermeide unnötig komplizierte Fachbegriffe, erkläre sie aber, wenn sie relevant sind.\n",
      "    4. Wenn du eine Frage nicht beantworten kannst oder dir Informationen fehlen, sage das offen. Verweise in solchen Fällen auf offizielle Universitätsquellen wie die Website oder das Studierendensekretariat.\n",
      "    5. Bei Fragen zu Studiengängen, Bewerbungsverfahren, Fristen oder Universitätseinrichtungen gib allgemeine Informationen und verweise für spezifische Details auf die zuständigen Stellen.\n",
      "    6. Respektiere die Privatsphäre. Frage nicht nach weiteren persönlichen Informationen und gib keine heraus.\n",
      "    7. Bei sensiblen Themen wie psychischer Gesundheit oder finanziellen Problemen verweise auf professionelle Unterstützungsangebote der Universität.\n",
      "    8. Sei dir deiner Rolle als KI-Assistent bewusst. Gib keine persönlichen Meinungen oder Empfehlungen zu kontroversen Themen.\n",
      "    9. Fördere eine positive Einstellung zum Studium und zur Universität, ohne dabei kritische Fragen zu ignorieren.\n",
      "    10. Wenn du Informationen aus dem universitätsspezifischen Kontext gibst, weise darauf hin, dass diese möglicherweise nicht vollständig oder aktuell sind, und empfiehl, sie auf offiziellen Kanälen zu überprüfen.\n",
      "    11. Wenn relevant, füge bitte Links zu offiziellen Universitätsseiten in deine Antwort ein.\n",
      "    12. Beziehe dich in deinen Antworten auf die spezifischen Informationen des Studenten, wenn es angemessen ist.\n",
      "\n",
      "    Dein Ziel ist es, eine zuverlässige und freundliche Anlaufstelle für alle universitätsbezogenen Fragen zu sein und den Nutzern dabei zu helfen, die benötigten Informationen oder den richtigen Ansprechpartner zu finden.\n",
      "\n",
      "    Menschliche Anfrage: {query_str}\n",
      "\n",
      "    Relevanter Kontext:\n",
      "    {context_str}\n",
      "\n",
      "    Basierend auf dem gegebenen Kontext, den Studenteninformationen und unter Berücksichtigung der oben genannten Richtlinien, hier ist meine personalisierte Antwort auf Deutsch:\n",
      "    \n"
     ]
    },
    {
     "data": {
      "text/markdown": [
       "<br><br>"
      ],
      "text/plain": [
       "<IPython.core.display.Markdown object>"
      ]
     },
     "metadata": {},
     "output_type": "display_data"
    },
    {
     "data": {
      "text/markdown": [
       "**Prompt Key**: response_synthesizer:refine_template<br>**Text:** <br>"
      ],
      "text/plain": [
       "<IPython.core.display.Markdown object>"
      ]
     },
     "metadata": {},
     "output_type": "display_data"
    },
    {
     "name": "stdout",
     "output_type": "stream",
     "text": [
      "The original query is as follows: {query_str}\n",
      "We have provided an existing answer: {existing_answer}\n",
      "We have the opportunity to refine the existing answer (only if needed) with some more context below.\n",
      "------------\n",
      "{context_msg}\n",
      "------------\n",
      "Given the new context, refine the original answer to better answer the query. If the context isn't useful, return the original answer.\n",
      "Refined Answer: \n"
     ]
    },
    {
     "data": {
      "text/markdown": [
       "<br><br>"
      ],
      "text/plain": [
       "<IPython.core.display.Markdown object>"
      ]
     },
     "metadata": {},
     "output_type": "display_data"
    }
   ],
   "source": [
    "prompts_dict = personalized_query_engine.get_prompts()\n",
    "\n",
    "display_prompt_dict(prompts_dict)"
   ]
  },
  {
   "cell_type": "code",
   "execution_count": 29,
   "metadata": {},
   "outputs": [
    {
     "name": "stdout",
     "output_type": "stream",
     "text": [
      "Frage: Was sind Kreditpunkte und wofür benötige ich sie?\n",
      "Antwort: Hallo Max Mustermann,\n",
      "\n",
      "Ich freue mich, dass du nachfragst. Kreditpunkte sind ein wichtiger Aspekt Ihres Studiums an der Carl von Ossietzky Universität Oldenburg. Im Masterstudiengang Informatik, in dem du studierst, werden Kreditpunkte als Maß für die erbrachte Leistung und den Fortschritt im Studium verwendet.\n",
      "\n",
      "Kreditpunkte sind ein wichtiger Faktor bei der Ermittlung des Notendurchschnitts und beeinflussen auch die Zulassung zum Abschluss. Im Masterstudiengang Informatik musst du insgesamt 120 Kreditpunkte erwerben, um den Studienabschluss zu erreichen.\n",
      "\n",
      "Ich empfehle dir, die offiziellen Universitätsquellen und die Prüfungsordnung für den Masterstudiengang Informatik zu überprüfen, um weitere Informationen zu erhalten. Hier findest du auch die genauen Regelungen zum Erwerb von Kreditpunkten und wie sie in deinem Studium verwendet werden.\n",
      "\n",
      "Ich hoffe, diese Information hilft dir bei deiner Planung und Organisation deines Studiums. Wenn du weitere Fragen hast oder Hilfe benötigst, stehe ich gerne zur Verfügung.\n",
      "\n",
      "Mit freundlichen Grüßen,\n",
      "Dein KI-Assistent\n",
      "\n",
      "Frage: Welchen Hochschulgrad habe ich nach Abschluss des Masters?\n",
      "Antwort: Hallo Max Mustermann,\n",
      "\n",
      "vielen Dank für deine Frage. Ich freue mich, dass du an die Carl von Ossietzky Universität Oldenburg denkt.\n",
      "\n",
      "Nach Abschluss deines Master-Studiums in Informatik wirst du einen Hochschulgrad erwerben. Der Masterabschluss ist ein postgradualer Abschluss, der nach erfolgreichem Abschluss eines Bachelor-Studiengangs erworben werden kann.\n",
      "\n",
      "In Deutschland gibt es verschiedene Hochschulgrade, wie zum Beispiel den Master of Science (M.Sc.) oder den Master of Arts (M.A.). Der genaue Titel deines Abschlusses hängt von dem Studiengang und der Universität ab, an der du studiert hast.\n",
      "\n",
      "Ich hoffe, diese Information hilft dir. Wenn du weitere Fragen hast, stehe ich gerne zur Verfügung.\n",
      "\n",
      "Mit freundlichen Grüßen,\n",
      "Dein KI-Assistent\n",
      "\n",
      "Frage: Was ist Dauer, Umfang des Masterstudiums?\n",
      "Antwort: Hallo Max Mustermann,\n",
      "\n",
      "vielen Dank für Ihre Frage. Ich freue mich, Ihnen helfen zu können.\n",
      "\n",
      "Die Dauer des Masterstudiums in Informatik an der Carl von Ossietzky Universität Oldenburg beträgt zwei Jahre. Pro Semester sollen 30 Kreditpunkte (KP) erworben werden, wobei ein Kreditpunkt einem durchschnittlichen studentischen Arbeitsaufwand von 30 Stunden entspricht.\n",
      "\n",
      "Im Masterstudium gliedert sich das Studium in Fachmodule im Umfang von 90 KP und das Masterarbeitsmodul im Umfang von 30 KP. Näheres regeln die studiengangsspezifischen Anlagen.\n",
      "\n",
      "Ich hoffe, diese Informationen helfen Ihnen bei Ihrer Planung. Wenn Sie weitere Fragen haben oder spezifische Details benötigen, stehe ich Ihnen gerne zur Verfügung.\n",
      "\n",
      "Mit freundlichen Grüßen,\n",
      "Dein KI-Assistent\n",
      "\n",
      "Frage: Wie ist eine Prüfung aufgebaut und welche Arten der Prüfungsleistung?\n",
      "Antwort: Hallo Max Mustermann!\n",
      "\n",
      "Ich freue mich, dass du nachfragst, wie eine Prüfung aufgebaut ist und welche Arten von Prüfungsleistungen es gibt. Als KI-Assistent der Carl von Ossietzky Universität Oldenburg bin ich hier, um dir zu helfen.\n",
      "\n",
      "Nach § 7 des Studienordnungsentwurfs (SPO) werden Modulprüfungen durch die für den Studiengang fachlich zuständigen Mitglieder und prüfungsberechtigten Angehörigen dieser oder einer anderen Universität abgenommen. Im Regelfall wird eine Prüfung von einem Prüfenden abgenommen, es sei denn, es handelt sich um fachpraktische Prüfungen in der Musik oder mündliche Prüfungen, die dann von einer/einem Prüfenden und Beisitzenden abgenommen werden.\n",
      "\n",
      "In § 8 des SPO wird die Anerkennung von Prüfungsleistungen und Anrechnung außerhochschulisch erworbener Kompetenzen geregelt. Hierbei entscheidet der zuständige Prüfungsausschuss auf Antrag des Studierenden, ob eine Prüfungsleistung anerkannt wird oder nicht.\n",
      "\n",
      "Ich hoffe, diese Informationen helfen dir bei deinem Verständnis von Prüfungen und Prüfungsleistungen. Wenn du weitere Fragen hast, stehe ich gerne zur Verfügung!\n",
      "\n",
      "Mit freundlichen Grüßen,\n",
      "Dein KI-Assistent\n",
      "\n"
     ]
    }
   ],
   "source": [
    "questions = [\n",
    "    \"Was sind Kreditpunkte und wofür benötige ich sie?\",\n",
    "    \"Welchen Hochschulgrad habe ich nach Abschluss des Masters?\",\n",
    "    \"Was ist Dauer, Umfang des Masterstudiums?\",\n",
    "    \"Wie ist eine Prüfung aufgebaut und welche Arten der Prüfungsleistung?\",\n",
    "]\n",
    "\n",
    "for question in questions:\n",
    "    response = personalized_query_engine.query(question)\n",
    "    print(f\"Frage: {question}\")\n",
    "    print(f\"Antwort: {response}\\n\")"
   ]
  },
  {
   "cell_type": "code",
   "execution_count": null,
   "metadata": {},
   "outputs": [],
   "source": []
  }
 ],
 "metadata": {
  "kernelspec": {
   "display_name": "uni_chatbot",
   "language": "python",
   "name": "python3"
  },
  "language_info": {
   "codemirror_mode": {
    "name": "ipython",
    "version": 3
   },
   "file_extension": ".py",
   "mimetype": "text/x-python",
   "name": "python",
   "nbconvert_exporter": "python",
   "pygments_lexer": "ipython3",
   "version": "3.12.6"
  }
 },
 "nbformat": 4,
 "nbformat_minor": 2
}
